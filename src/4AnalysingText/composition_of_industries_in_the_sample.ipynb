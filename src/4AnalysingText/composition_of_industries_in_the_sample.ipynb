{
 "cells": [
  {
   "cell_type": "markdown",
   "id": "cc9045b7",
   "metadata": {},
   "source": [
    "# 4.2.1 各年度別の業種ごとの企業数\n",
    "\n",
    "全 2360 件の業種ごとの企業数に関する図は図表 5 の通りである。なお、前述した\n",
    "通り企業数及びその種類は、コロナ前、コロナ過渡期、コロナ後すべて統一してい\n",
    "る。"
   ]
  },
  {
   "cell_type": "code",
   "execution_count": 3,
   "id": "52501677",
   "metadata": {},
   "outputs": [],
   "source": [
    "import pandas as pd\n",
    "\n",
    "def make_type_of_industry_list(data_frame : pd.DataFrame, industry_col=\"[業種（東証）]\"):\n",
    "    return list(set(data_frame[industry_col]))\n",
    "\n",
    "def make_type_of_industry_list(data_frame : pd.DataFrame, industry_col=\"[業種（東証）]\"):\n",
    "    return list(set(data_frame[industry_col]))\n",
    "\n",
    "#renketsuだと業種の種類を網羅できるため指定\n",
    "data_frame_name =\"renketsu\" \n",
    "data_frame = pd.read_csv(\"/home/jovyan/1CallingEdinetApi\"+f\"/EdinetIdxFiles/edinet_{data_frame_name}.csv\", skiprows=4)"
   ]
  },
  {
   "cell_type": "code",
   "execution_count": 2,
   "id": "c1147088",
   "metadata": {},
   "outputs": [
    {
     "ename": "ZeroDivisionError",
     "evalue": "division by zero",
     "output_type": "error",
     "traceback": [
      "\u001b[0;31m---------------------------------------------------------------------------\u001b[0m",
      "\u001b[0;31mZeroDivisionError\u001b[0m                         Traceback (most recent call last)",
      "\u001b[0;32m/tmp/ipykernel_121/1498440304.py\u001b[0m in \u001b[0;36m<module>\u001b[0;34m\u001b[0m\n\u001b[1;32m     14\u001b[0m \u001b[0;34m\u001b[0m\u001b[0m\n\u001b[1;32m     15\u001b[0m \u001b[0msum_val\u001b[0m \u001b[0;34m=\u001b[0m \u001b[0menterprise_length_li\u001b[0m\u001b[0;34m[\u001b[0m\u001b[0;34m-\u001b[0m\u001b[0;36m1\u001b[0m\u001b[0;34m]\u001b[0m\u001b[0;34m\u001b[0m\u001b[0;34m\u001b[0m\u001b[0m\n\u001b[0;32m---> 16\u001b[0;31m \u001b[0mcomposition_li\u001b[0m \u001b[0;34m=\u001b[0m \u001b[0;34m[\u001b[0m \u001b[0;34mf\"{round(e / sum_val * 100, 2)}%\"\u001b[0m \u001b[0;32mfor\u001b[0m \u001b[0me\u001b[0m \u001b[0;32min\u001b[0m  \u001b[0menterprise_length_li\u001b[0m\u001b[0;34m]\u001b[0m\u001b[0;34m\u001b[0m\u001b[0;34m\u001b[0m\u001b[0m\n\u001b[0m",
      "\u001b[0;32m/tmp/ipykernel_121/1498440304.py\u001b[0m in \u001b[0;36m<listcomp>\u001b[0;34m(.0)\u001b[0m\n\u001b[1;32m     14\u001b[0m \u001b[0;34m\u001b[0m\u001b[0m\n\u001b[1;32m     15\u001b[0m \u001b[0msum_val\u001b[0m \u001b[0;34m=\u001b[0m \u001b[0menterprise_length_li\u001b[0m\u001b[0;34m[\u001b[0m\u001b[0;34m-\u001b[0m\u001b[0;36m1\u001b[0m\u001b[0;34m]\u001b[0m\u001b[0;34m\u001b[0m\u001b[0;34m\u001b[0m\u001b[0m\n\u001b[0;32m---> 16\u001b[0;31m \u001b[0mcomposition_li\u001b[0m \u001b[0;34m=\u001b[0m \u001b[0;34m[\u001b[0m \u001b[0;34mf\"{round(e / sum_val * 100, 2)}%\"\u001b[0m \u001b[0;32mfor\u001b[0m \u001b[0me\u001b[0m \u001b[0;32min\u001b[0m  \u001b[0menterprise_length_li\u001b[0m\u001b[0;34m]\u001b[0m\u001b[0;34m\u001b[0m\u001b[0;34m\u001b[0m\u001b[0m\n\u001b[0m",
      "\u001b[0;31mZeroDivisionError\u001b[0m: division by zero"
     ]
    }
   ],
   "source": [
    "import pandas as pd\n",
    "import glob\n",
    "\n",
    "industry_list = make_type_of_industry_list(data_frame)\n",
    "\n",
    "sum_len = 0\n",
    "enterprise_length_li =  []\n",
    "for industry_spec in industry_list:\n",
    "    enterprise_length = len(glob.glob(f'/home/jovyan/3FetchingMDandA' + f\"/**/{industry_spec}/BeforeSample/*.csv\", recursive=True))\n",
    "    enterprise_length_li.append(enterprise_length)\n",
    "    \n",
    "enterprise_length_li.append(sum(enterprise_length_li))\n",
    "industry_list.append(\"合計\")\n",
    "\n",
    "sum_val = enterprise_length_li[-1]\n",
    "composition_li = [ f\"{round(e / sum_val * 100, 2)}%\" for e in  enterprise_length_li]"
   ]
  },
  {
   "cell_type": "code",
   "execution_count": null,
   "id": "3a0bd118",
   "metadata": {},
   "outputs": [],
   "source": [
    "df= pd.DataFrame(\n",
    "    {\n",
    "       \"企業数\":  enterprise_length_li,\n",
    "        \"構成比\":  composition_li,\n",
    "    }, index= industry_list\n",
    ")\n",
    "\n",
    "df"
   ]
  },
  {
   "cell_type": "code",
   "execution_count": null,
   "id": "dc6ca6b4",
   "metadata": {},
   "outputs": [],
   "source": []
  }
 ],
 "metadata": {
  "kernelspec": {
   "display_name": "Python 3 (ipykernel)",
   "language": "python",
   "name": "python3"
  },
  "language_info": {
   "codemirror_mode": {
    "name": "ipython",
    "version": 3
   },
   "file_extension": ".py",
   "mimetype": "text/x-python",
   "name": "python",
   "nbconvert_exporter": "python",
   "pygments_lexer": "ipython3",
   "version": "3.10.6"
  }
 },
 "nbformat": 4,
 "nbformat_minor": 5
}
