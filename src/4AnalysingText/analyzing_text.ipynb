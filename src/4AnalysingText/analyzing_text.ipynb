{
 "cells": [
  {
   "cell_type": "markdown",
   "id": "8b4a0092",
   "metadata": {},
   "source": [
    "# 4.3.4 抽出した文章群から日本語極性辞書にマッチする単語を特定しトーンを算出\n",
    "抽出した文章群から乾・鈴木(2008)で公開された日本語評価極性辞書を用いて、マッチする単語を特定しトーンを算出する。ここでは、osetiと呼ばれる日本語評価極性辞書を用いて極性の判定を行うPythonのライブラリを用いた。"
   ]
  },
  {
   "cell_type": "code",
   "execution_count": 1,
   "id": "c25f5925",
   "metadata": {},
   "outputs": [],
   "source": [
    "import glob\n",
    "\n",
    "def call_sample_dir_name(initial_name):\n",
    "    if initial_name == \"a\":\n",
    "        return \"AfterSample\"\n",
    "    elif  initial_name == \"t\":\n",
    "        return \"TransitionPeriodSample\"\n",
    "    else:\n",
    "        return \"BeforeSample\"\n",
    "\n",
    "\n",
    "def call_csv_files(sample_dir_name=\"AfterSample\", data_frame_spec=None, industry_spec=None):\n",
    "    \n",
    "    if data_frame_spec is None:\n",
    "        \n",
    "        if industry_spec is None:\n",
    "            csv_files = glob.glob('/home/jovyan/3FetchingMDandA' + f\"/**/{sample_dir_name}/*.csv\", recursive=True)\n",
    "        else:\n",
    "             csv_files = glob.glob(f'/home/jovyan/3FetchingMDandA' + f\"/**/{industry_spec}/{sample_dir_name}/*.csv\", recursive=True)\n",
    "    else:\n",
    "        if industry_spec is None:\n",
    "            csv_files = glob.glob(f'/home/jovyan/3FetchingMDandA/{data_frame_spec}' + f\"/**/{sample_dir_name}/*.csv\", recursive=True)\n",
    "        else:\n",
    "             csv_files = glob.glob(f\"/home/jovyan/3FetchingMDandA/{data_frame_spec}/{industry_spec}/{sample_dir_name}/*.csv\", recursive=True)\n",
    "    \n",
    "    return  csv_files"
   ]
  },
  {
   "cell_type": "code",
   "execution_count": 2,
   "id": "ae76c615",
   "metadata": {},
   "outputs": [],
   "source": [
    "import glob\n",
    "import pandas as pd\n",
    "import os \n",
    "import oseti\n",
    "\n",
    "\n",
    "# analyzer = oseti.Analyzer()\n",
    "def make_atb_li(atb_file, analyzer):\n",
    "\n",
    "    atb_df = pd.read_csv(atb_file, index_col=0)\n",
    "    if len(atb_df) < 1:\n",
    "        return 0\n",
    "    texts_joined = \"\".join(list(atb_df[\"Text\"].values))\n",
    "    #parse error対策\n",
    "    texts_joined = texts_joined.replace(\"\\n\", \"\")\n",
    "    \n",
    "    scores = analyzer.count_polarity(texts_joined)\n",
    "    sum_plus = 0\n",
    "    sum_minus = 0\n",
    "    for score in scores:\n",
    "        sum_plus += score[\"positive\"]\n",
    "        sum_minus += score[\"negative\"]\n",
    "\n",
    "    ret_val =  (sum_plus - sum_minus)/(sum_plus + sum_minus)\n",
    "    return ret_val"
   ]
  },
  {
   "cell_type": "code",
   "execution_count": 3,
   "id": "e6bb9297",
   "metadata": {},
   "outputs": [
    {
     "name": "stdout",
     "output_type": "stream",
     "text": [
      "--------ここまで終わりました1------\n"
     ]
    }
   ],
   "source": [
    "#今回は全企業を抽出して分析\n",
    "data_frame_spec=None\n",
    "industry_spec=None\n",
    "\n",
    "\n",
    "#before\n",
    "dir_name_b = call_sample_dir_name(\"b\")\n",
    "before_csv_files  = call_csv_files(dir_name_b, data_frame_spec, industry_spec)\n",
    "#transition\n",
    "dir_name_t = call_sample_dir_name(\"t\")\n",
    "transition_period_csv_files = call_csv_files(dir_name_t, data_frame_spec, industry_spec)\n",
    "#after\n",
    "dir_name_a = call_sample_dir_name(\"a\")\n",
    "after_csv_files = call_csv_files(dir_name_a, data_frame_spec, industry_spec)\n",
    "print(\"--------ここまで終わりました1------\")"
   ]
  },
  {
   "cell_type": "code",
   "execution_count": 4,
   "id": "1eb7bb6c",
   "metadata": {},
   "outputs": [],
   "source": [
    "analyzer = oseti.Analyzer()"
   ]
  },
  {
   "cell_type": "code",
   "execution_count": 11,
   "id": "16238b96",
   "metadata": {},
   "outputs": [
    {
     "name": "stdout",
     "output_type": "stream",
     "text": [
      "-------ここまで終わりました2-------\n"
     ]
    }
   ],
   "source": [
    "#cache化して速度向上\n",
    "before_li = []\n",
    "f = before_li.append\n",
    "\n",
    "for b_file in  before_csv_files :\n",
    "    tmp = make_atb_li(b_file, analyzer) \n",
    "    f(tmp)\n",
    "print(\"-------ここまで終わりました2-------\")"
   ]
  },
  {
   "cell_type": "code",
   "execution_count": 8,
   "id": "3effb0b5",
   "metadata": {},
   "outputs": [
    {
     "name": "stdout",
     "output_type": "stream",
     "text": [
      "-------ここまで終わりました3-------\n"
     ]
    }
   ],
   "source": [
    "transition_period_li = []\n",
    "f = transition_period_li.append\n",
    "\n",
    "for t_file in  transition_period_csv_files  :\n",
    "    tmp = make_atb_li(t_file, analyzer) \n",
    "    f(tmp)\n",
    "print(\"-------ここまで終わりました3-------\")"
   ]
  },
  {
   "cell_type": "code",
   "execution_count": 13,
   "id": "acc9a245",
   "metadata": {},
   "outputs": [
    {
     "name": "stdout",
     "output_type": "stream",
     "text": [
      "-------ここまで終わりました4-------\n"
     ]
    }
   ],
   "source": [
    "after_li = []\n",
    "f = after_li.append\n",
    "\n",
    "for a_file in  after_csv_files :\n",
    "    tmp = make_atb_li(a_file, analyzer) \n",
    "    f(tmp)\n",
    "print(\"-------ここまで終わりました4-------\")\n"
   ]
  },
  {
   "cell_type": "code",
   "execution_count": 14,
   "id": "e90bedc4",
   "metadata": {},
   "outputs": [
    {
     "name": "stdout",
     "output_type": "stream",
     "text": [
      "2277 2277 2277\n"
     ]
    }
   ],
   "source": [
    "#各年度のサンプルサイズ\n",
    "print(len(after_li), len(transition_period_li) ,len(before_li))"
   ]
  },
  {
   "cell_type": "code",
   "execution_count": 15,
   "id": "1185a348",
   "metadata": {},
   "outputs": [
    {
     "data": {
      "text/plain": [
       "(array([  2.,   1.,   0.,   1.,   1.,   0.,   3.,   3.,   3.,   1.,   4.,\n",
       "          6.,  11.,  11.,  11.,   9.,  10.,  16.,  15.,  30.,  23.,  32.,\n",
       "         41.,  35.,  59.,  68.,  69.,  97.,  89., 109., 108., 111., 139.,\n",
       "        146., 156., 138., 128., 123., 102.,  81.,  73.,  64.,  50.,  39.,\n",
       "         25.,  18.,   6.,   7.,   2.,   1.]),\n",
       " array([0.20076482, 0.21488906, 0.2290133 , 0.24313753, 0.25726177,\n",
       "        0.27138601, 0.28551025, 0.29963449, 0.31375873, 0.32788297,\n",
       "        0.3420072 , 0.35613144, 0.37025568, 0.38437992, 0.39850416,\n",
       "        0.4126284 , 0.42675263, 0.44087687, 0.45500111, 0.46912535,\n",
       "        0.48324959, 0.49737383, 0.51149807, 0.5256223 , 0.53974654,\n",
       "        0.55387078, 0.56799502, 0.58211926, 0.5962435 , 0.61036774,\n",
       "        0.62449197, 0.63861621, 0.65274045, 0.66686469, 0.68098893,\n",
       "        0.69511317, 0.7092374 , 0.72336164, 0.73748588, 0.75161012,\n",
       "        0.76573436, 0.7798586 , 0.79398284, 0.80810707, 0.82223131,\n",
       "        0.83635555, 0.85047979, 0.86460403, 0.87872827, 0.89285251,\n",
       "        0.90697674]),\n",
       " <BarContainer object of 50 artists>)"
      ]
     },
     "execution_count": 15,
     "metadata": {},
     "output_type": "execute_result"
    },
    {
     "data": {
      "image/png": "[encoded data removed]",
      "text/plain": [
       "<Figure size 432x288 with 1 Axes>"
      ]
     },
     "metadata": {
      "needs_background": "light"
     },
     "output_type": "display_data"
    }
   ],
   "source": [
    "#beforeのヒストグラム\n",
    "import numpy as np\n",
    "import matplotlib.pyplot as plt\n",
    "\n",
    "fig = plt.figure()\n",
    "ax = fig.add_subplot(1,1,1)\n",
    "plt.ylabel(\"Number of companies\")\n",
    "plt.xlabel(\"TONE\")\n",
    "ax.hist(before_li, bins=50)"
   ]
  },
  {
   "cell_type": "code",
   "execution_count": 16,
   "id": "cb54545f",
   "metadata": {},
   "outputs": [
    {
     "data": {
      "text/plain": [
       "(array([  1.,   1.,   1.,   1.,   1.,   1.,   1.,   4.,   0.,   5.,   5.,\n",
       "          4.,   5.,   6.,   8.,  11.,  20.,  10.,  12.,  20.,  25.,  26.,\n",
       "         41.,  34.,  58.,  58.,  53.,  81.,  73.,  93.,  96., 117., 125.,\n",
       "        113., 148., 156., 122., 132., 114., 101.,  86.,  82.,  58.,  46.,\n",
       "         40.,  30.,  19.,  19.,  10.,   4.]),\n",
       " array([0.17535545, 0.18951824, 0.20368104, 0.21784383, 0.23200663,\n",
       "        0.24616942, 0.26033221, 0.27449501, 0.2886578 , 0.3028206 ,\n",
       "        0.31698339, 0.33114618, 0.34530898, 0.35947177, 0.37363456,\n",
       "        0.38779736, 0.40196015, 0.41612295, 0.43028574, 0.44444853,\n",
       "        0.45861133, 0.47277412, 0.48693692, 0.50109971, 0.5152625 ,\n",
       "        0.5294253 , 0.54358809, 0.55775089, 0.57191368, 0.58607647,\n",
       "        0.60023927, 0.61440206, 0.62856486, 0.64272765, 0.65689044,\n",
       "        0.67105324, 0.68521603, 0.69937882, 0.71354162, 0.72770441,\n",
       "        0.74186721, 0.75603   , 0.77019279, 0.78435559, 0.79851838,\n",
       "        0.81268118, 0.82684397, 0.84100676, 0.85516956, 0.86933235,\n",
       "        0.88349515]),\n",
       " <BarContainer object of 50 artists>)"
      ]
     },
     "execution_count": 16,
     "metadata": {},
     "output_type": "execute_result"
    },
    {
     "data": {
      "image/png": "[encoded data removed]",
      "text/plain": [
       "<Figure size 432x288 with 1 Axes>"
      ]
     },
     "metadata": {
      "needs_background": "light"
     },
     "output_type": "display_data"
    }
   ],
   "source": [
    "#transitionのヒストグラム\n",
    "fig = plt.figure()\n",
    "ax = fig.add_subplot(1,1,1)\n",
    "plt.ylabel(\"Number of companies\")\n",
    "plt.xlabel(\"TONE\")\n",
    "ax.hist(transition_period_li, bins=50)"
   ]
  },
  {
   "cell_type": "code",
   "execution_count": 17,
   "id": "8c3bbde7",
   "metadata": {},
   "outputs": [
    {
     "data": {
      "text/plain": [
       "(array([  2.,   3.,   1.,   1.,   2.,   3.,   4.,   4.,   4.,   7.,  10.,\n",
       "         12.,  15.,  23.,   9.,  16.,  20.,  27.,  35.,  49.,  48.,  67.,\n",
       "         75.,  88.,  81.,  87., 108., 123., 103., 119., 126., 141., 117.,\n",
       "        119., 107.,  77.,  84.,  65.,  84.,  51.,  47.,  36.,  22.,  26.,\n",
       "          8.,   9.,   5.,   2.,   3.,   2.]),\n",
       " array([0.08817204, 0.10338973, 0.11860743, 0.13382512, 0.14904281,\n",
       "        0.1642605 , 0.17947819, 0.19469588, 0.20991357, 0.22513126,\n",
       "        0.24034896, 0.25556665, 0.27078434, 0.28600203, 0.30121972,\n",
       "        0.31643741, 0.3316551 , 0.34687279, 0.36209048, 0.37730818,\n",
       "        0.39252587, 0.40774356, 0.42296125, 0.43817894, 0.45339663,\n",
       "        0.46861432, 0.48383201, 0.49904971, 0.5142674 , 0.52948509,\n",
       "        0.54470278, 0.55992047, 0.57513816, 0.59035585, 0.60557354,\n",
       "        0.62079124, 0.63600893, 0.65122662, 0.66644431, 0.681662  ,\n",
       "        0.69687969, 0.71209738, 0.72731507, 0.74253277, 0.75775046,\n",
       "        0.77296815, 0.78818584, 0.80340353, 0.81862122, 0.83383891,\n",
       "        0.8490566 ]),\n",
       " <BarContainer object of 50 artists>)"
      ]
     },
     "execution_count": 17,
     "metadata": {},
     "output_type": "execute_result"
    },
    {
     "data": {
      "image/png": "[encoded data removed]",
      "text/plain": [
       "<Figure size 432x288 with 1 Axes>"
      ]
     },
     "metadata": {
      "needs_background": "light"
     },
     "output_type": "display_data"
    }
   ],
   "source": [
    "#afterのヒストグラム\n",
    "fig = plt.figure()\n",
    "ax = fig.add_subplot(1,1,1)\n",
    "plt.ylabel(\"Number of companies\")\n",
    "plt.xlabel(\"TONE\")\n",
    "ax.hist(after_li, bins=50)"
   ]
  },
  {
   "cell_type": "code",
   "execution_count": 18,
   "id": "14670e13",
   "metadata": {},
   "outputs": [
    {
     "name": "stdout",
     "output_type": "stream",
     "text": [
      "ShapiroResult(statistic=0.9717572927474976, pvalue=8.834468272238198e-21)\n",
      "KstestResult(statistic=0.6367143659091989, pvalue=0.0)\n"
     ]
    }
   ],
   "source": [
    "# 正規性の検定\n",
    "  #before\n",
    "import scipy.stats as stats\n",
    "print(stats.shapiro(before_li))   \n",
    "print(stats.kstest(before_li, \"norm\"))"
   ]
  },
  {
   "cell_type": "code",
   "execution_count": 19,
   "id": "a33be575",
   "metadata": {},
   "outputs": [
    {
     "name": "stdout",
     "output_type": "stream",
     "text": [
      "ShapiroResult(statistic=0.9743578433990479, pvalue=8.687457274754784e-20)\n",
      "KstestResult(statistic=0.6323944243273957, pvalue=0.0)\n"
     ]
    }
   ],
   "source": [
    "# 正規性の検定\n",
    "   #transition\n",
    "print(stats.shapiro(transition_period_li))   \n",
    "print(stats.kstest(transition_period_li, \"norm\"))"
   ]
  },
  {
   "cell_type": "code",
   "execution_count": 20,
   "id": "e1c41b08",
   "metadata": {},
   "outputs": [
    {
     "name": "stdout",
     "output_type": "stream",
     "text": [
      "ShapiroResult(statistic=0.9883420467376709, pvalue=1.1569712202175175e-12)\n",
      "KstestResult(statistic=0.5844571248123066, pvalue=0.0)\n"
     ]
    }
   ],
   "source": [
    "# 正規性の検定\n",
    "   #after\n",
    "print(stats.shapiro(after_li))   \n",
    "print(stats.kstest(after_li, \"norm\"))"
   ]
  },
  {
   "cell_type": "code",
   "execution_count": 23,
   "id": "9c3cb904",
   "metadata": {},
   "outputs": [],
   "source": [
    " import numpy as np\n",
    "    # 等分散性の検定\n",
    "    #ex)  A=before_li, B=transition_period_li\n",
    "def exec_f_test(A, B):\n",
    "    A_var = np.var(A, ddof=1)  # Aの不偏分散\n",
    "    B_var = np.var(B, ddof=1)  # Bの不偏分散\n",
    "    A_df = len(A) - 1  # Aの自由度\n",
    "    B_df = len(B) - 1  # Bの自由度\n",
    "    f = A_var / B_var  # F比の値\n",
    "    one_sided_pval1 = stats.f.cdf(f, A_df, B_df)  # 片側検定のp値 1\n",
    "    one_sided_pval2 = stats.f.sf(f, A_df, B_df)   # 片側検定のp値 2\n",
    "    two_sided_pval = min(one_sided_pval1, one_sided_pval2) * 2  # 両側検定のp値\n",
    "    print('F:       ', round(f, 3))\n",
    "    print('p-value: ', round(two_sided_pval, 3))"
   ]
  },
  {
   "cell_type": "code",
   "execution_count": 24,
   "id": "68e98073",
   "metadata": {},
   "outputs": [
    {
     "name": "stdout",
     "output_type": "stream",
     "text": [
      "F:        0.931\n",
      "p-value:  0.087\n"
     ]
    }
   ],
   "source": [
    "A=before_li\n",
    "B=transition_period_li\n",
    "exec_f_test(A, B)"
   ]
  },
  {
   "cell_type": "code",
   "execution_count": 25,
   "id": "39994ab5",
   "metadata": {},
   "outputs": [
    {
     "name": "stdout",
     "output_type": "stream",
     "text": [
      "F:        0.815\n",
      "p-value:  0.0\n"
     ]
    }
   ],
   "source": [
    "A=transition_period_li\n",
    "B=after_li\n",
    "exec_f_test(A, B)"
   ]
  },
  {
   "cell_type": "code",
   "execution_count": 26,
   "id": "0c8781c1",
   "metadata": {},
   "outputs": [
    {
     "name": "stdout",
     "output_type": "stream",
     "text": [
      "F:        0.758\n",
      "p-value:  0.0\n"
     ]
    }
   ],
   "source": [
    "A=before_li\n",
    "B=after_li\n",
    "exec_f_test(A, B)"
   ]
  },
  {
   "cell_type": "code",
   "execution_count": 14,
   "id": "00e6f4e3",
   "metadata": {},
   "outputs": [
    {
     "name": "stdout",
     "output_type": "stream",
     "text": [
      "before_li:  0.652211639700913\n",
      "transition_period_lii:  0.6424370778702994\n",
      "after_li:  0.5339956014025147\n"
     ]
    }
   ],
   "source": [
    "import numpy\n",
    "print(\"before_li: \", numpy.average(before_li))\n",
    "print(\"transition_period_lii: \", numpy.average(transition_period_li))\n",
    "print(\"after_li: \", numpy.average(after_li))"
   ]
  },
  {
   "cell_type": "code",
   "execution_count": 20,
   "id": "d4259cac",
   "metadata": {},
   "outputs": [
    {
     "name": "stdout",
     "output_type": "stream",
     "text": [
      "before_li:  0.652211639700913\n",
      "transition_period_lii:  0.6424370778702994\n",
      "after_li:  0.5339956014025147\n"
     ]
    }
   ],
   "source": [
    "import numpy\n",
    "print(\"before_li: \", numpy.average(before_li))\n",
    "print(\"transition_period_lii: \", numpy.average(transition_period_li))\n",
    "print(\"after_li: \", numpy.average(after_li))"
   ]
  },
  {
   "cell_type": "code",
   "execution_count": 27,
   "id": "a1e6b698",
   "metadata": {},
   "outputs": [
    {
     "data": {
      "text/plain": [
       "Ttest_indResult(statistic=3.2177307726575677, pvalue=0.0013011584182516616)"
      ]
     },
     "execution_count": 27,
     "metadata": {},
     "output_type": "execute_result"
    }
   ],
   "source": [
    "#ウェルチのt検定\n",
    "stats.ttest_ind(before_li, transition_period_li, equal_var=False)"
   ]
  },
  {
   "cell_type": "code",
   "execution_count": 28,
   "id": "3ebd4863",
   "metadata": {},
   "outputs": [
    {
     "data": {
      "text/plain": [
       "Ttest_indResult(statistic=33.9501136114102, pvalue=2.0783570778845373e-225)"
      ]
     },
     "execution_count": 28,
     "metadata": {},
     "output_type": "execute_result"
    }
   ],
   "source": [
    "#スチューデントのt検定\n",
    "stats.ttest_ind(transition_period_li, after_li, axis=0, equal_var=True, nan_policy='propagate')"
   ]
  },
  {
   "cell_type": "code",
   "execution_count": 29,
   "id": "3b44e403",
   "metadata": {},
   "outputs": [
    {
     "data": {
      "text/plain": [
       "Ttest_indResult(statistic=37.533528361406, pvalue=7.355132156667064e-269)"
      ]
     },
     "execution_count": 29,
     "metadata": {},
     "output_type": "execute_result"
    }
   ],
   "source": [
    "#スチューデントのt検定\n",
    "stats.ttest_ind(before_li, after_li, axis=0, equal_var=True, nan_policy='propagate')"
   ]
  },
  {
   "cell_type": "code",
   "execution_count": 30,
   "id": "d23834bd",
   "metadata": {},
   "outputs": [
    {
     "data": {
      "text/plain": [
       "MannwhitneyuResult(statistic=2736705.5, pvalue=0.0011393003001225596)"
      ]
     },
     "execution_count": 30,
     "metadata": {},
     "output_type": "execute_result"
    }
   ],
   "source": [
    "#マンホイットニーのu検定\n",
    "stats.mannwhitneyu( before_li, transition_period_li, alternative='two-sided')"
   ]
  },
  {
   "cell_type": "code",
   "execution_count": 31,
   "id": "f0d8fd08",
   "metadata": {},
   "outputs": [
    {
     "data": {
      "text/plain": [
       "MannwhitneyuResult(statistic=3989740.0, pvalue=8.971477191850368e-218)"
      ]
     },
     "execution_count": 31,
     "metadata": {},
     "output_type": "execute_result"
    }
   ],
   "source": [
    "stats.mannwhitneyu(transition_period_li, after_li, alternative='two-sided')"
   ]
  },
  {
   "cell_type": "code",
   "execution_count": 32,
   "id": "fce76687",
   "metadata": {},
   "outputs": [
    {
     "data": {
      "text/plain": [
       "MannwhitneyuResult(statistic=4107370.5, pvalue=1.312393368205114e-255)"
      ]
     },
     "execution_count": 32,
     "metadata": {},
     "output_type": "execute_result"
    }
   ],
   "source": [
    "stats.mannwhitneyu(before_li, after_li, alternative='two-sided')"
   ]
  }
 ],
 "metadata": {
  "kernelspec": {
   "display_name": "Python 3 (ipykernel)",
   "language": "python",
   "name": "python3"
  },
  "language_info": {
   "codemirror_mode": {
    "name": "ipython",
    "version": 3
   },
   "file_extension": ".py",
   "mimetype": "text/x-python",
   "name": "python",
   "nbconvert_exporter": "python",
   "pygments_lexer": "ipython3",
   "version": "3.9.6"
  }
 },
 "nbformat": 4,
 "nbformat_minor": 5
}
