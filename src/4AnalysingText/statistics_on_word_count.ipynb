{
 "cells": [
  {
   "cell_type": "markdown",
   "id": "50e46a99",
   "metadata": {},
   "source": [
    "# 4.2.2 各年度の企業別の単語数の統計\n",
    "次に全 2360 件の各企業の文字数の統計情報を確認する。"
   ]
  },
  {
   "cell_type": "code",
   "execution_count": 2,
   "id": "c25f5925",
   "metadata": {},
   "outputs": [],
   "source": [
    "import glob\n",
    "\n",
    "def call_sample_dir_name(initial_name):\n",
    "    if initial_name == \"a\":\n",
    "        return \"AfterSample\"\n",
    "    elif  initial_name == \"t\":\n",
    "        return \"TransitionPeriodSample\"\n",
    "    else:\n",
    "        return \"BeforeSample\"\n",
    "\n",
    "\n",
    "def call_csv_files(sample_dir_name=\"AfterSample\", data_frame_spec=None, industry_spec=None):\n",
    "    \n",
    "    if data_frame_spec is None:\n",
    "        \n",
    "        if industry_spec is None:\n",
    "            csv_files = glob.glob('/home/jovyan/3FetchingMDandA' + f\"/**/{sample_dir_name}/*.csv\", recursive=True)\n",
    "        else:\n",
    "             csv_files = glob.glob(f'/home/jovyan/3FetchingMDandA' + f\"/**/{industry_spec}/{sample_dir_name}/*.csv\", recursive=True)\n",
    "    else:\n",
    "        if industry_spec is None:\n",
    "            csv_files = glob.glob(f'/home/jovyan/3FetchingMDandA/{data_frame_spec}' + f\"/**/{sample_dir_name}/*.csv\", recursive=True)\n",
    "        else:\n",
    "             csv_files = glob.glob(f\"/home/jovyan/3FetchingMDandA/{data_frame_spec}/{industry_spec}/{sample_dir_name}/*.csv\", recursive=True)\n",
    "    \n",
    "    return  csv_files"
   ]
  },
  {
   "cell_type": "code",
   "execution_count": 3,
   "id": "e5d06eae",
   "metadata": {},
   "outputs": [
    {
     "name": "stdout",
     "output_type": "stream",
     "text": [
      "2277\n",
      "2277\n",
      "2277\n"
     ]
    }
   ],
   "source": [
    "a_files =  call_csv_files(sample_dir_name=\"AfterSample\")\n",
    "print(len(a_files))\n",
    "t_files =  call_csv_files(sample_dir_name=\"TransitionPeriodSample\")\n",
    "print(len(t_files))\n",
    "b_files =  call_csv_files(sample_dir_name=\"BeforeSample\")\n",
    "print(len(b_files))"
   ]
  },
  {
   "cell_type": "code",
   "execution_count": 4,
   "id": "ae76c615",
   "metadata": {},
   "outputs": [],
   "source": [
    "import MeCab\n",
    "import glob\n",
    "import pandas as pd\n",
    "import os \n",
    "import oseti\n",
    "\n",
    "\n",
    "\n",
    "def calc_words_len(atb_file):\n",
    "    \n",
    "    atb_df = pd.read_csv(atb_file, index_col=0)\n",
    "    if len(atb_df) < 1:\n",
    "        return 0\n",
    "    texts_joined = \"\".join(list(atb_df[\"Text\"].values))\n",
    "    #parse error対策\n",
    "    texts_joined = texts_joined.replace(\"\\n\", \"\")\n",
    "    return len(texts_joined)"
   ]
  },
  {
   "cell_type": "code",
   "execution_count": 5,
   "id": "e6bb9297",
   "metadata": {},
   "outputs": [
    {
     "name": "stdout",
     "output_type": "stream",
     "text": [
      "--------ここまで終わりました1------\n"
     ]
    }
   ],
   "source": [
    "data_frame_spec=None\n",
    "industry_spec=None\n",
    "\n",
    "dir_name_b = call_sample_dir_name(\"b\")\n",
    "before_csv_files  = call_csv_files(dir_name_b, data_frame_spec, industry_spec)\n",
    "\n",
    "dir_name_t = call_sample_dir_name(\"t\")\n",
    "transition_period_csv_files = call_csv_files(dir_name_t, data_frame_spec, industry_spec)\n",
    "\n",
    "dir_name_a = call_sample_dir_name(\"a\")\n",
    "after_csv_files = call_csv_files(dir_name_a, data_frame_spec, industry_spec)\n",
    "print(\"--------ここまで終わりました1------\")"
   ]
  },
  {
   "cell_type": "code",
   "execution_count": 6,
   "id": "16238b96",
   "metadata": {},
   "outputs": [
    {
     "name": "stdout",
     "output_type": "stream",
     "text": [
      "-------ここまで終わりました2-------\n"
     ]
    }
   ],
   "source": [
    "sum_words_before = []\n",
    "\n",
    "for b_file in  before_csv_files :\n",
    "    sum_words = calc_words_len(b_file) \n",
    "    sum_words_before.append(sum_words)\n",
    "    \n",
    "print(\"-------ここまで終わりました2-------\")"
   ]
  },
  {
   "cell_type": "code",
   "execution_count": 7,
   "id": "3effb0b5",
   "metadata": {},
   "outputs": [
    {
     "name": "stdout",
     "output_type": "stream",
     "text": [
      "-------ここまで終わりました3-------\n"
     ]
    }
   ],
   "source": [
    "sum_words_transition_period = []\n",
    "\n",
    "for t_file in  transition_period_csv_files  :\n",
    "    sum_words = calc_words_len(t_file) \n",
    "    sum_words_transition_period.append(sum_words)\n",
    "print(\"-------ここまで終わりました3-------\")"
   ]
  },
  {
   "cell_type": "code",
   "execution_count": 8,
   "id": "acc9a245",
   "metadata": {},
   "outputs": [
    {
     "name": "stdout",
     "output_type": "stream",
     "text": [
      "-------ここまで終わりました4-------\n"
     ]
    }
   ],
   "source": [
    "sum_words_after = []\n",
    "\n",
    "for a_file in  after_csv_files :\n",
    "    sum_words = calc_words_len(a_file) \n",
    "    sum_words_after.append(sum_words)\n",
    "print(\"-------ここまで終わりました4-------\")"
   ]
  },
  {
   "cell_type": "code",
   "execution_count": 9,
   "id": "17e97f75",
   "metadata": {},
   "outputs": [],
   "source": [
    "year_li = []\n",
    "for li in [sum_words_before, sum_words_transition_period, sum_words_after] :\n",
    "    year_li.append(list(map(lambda x: 0 if x is None else x, li)))"
   ]
  },
  {
   "cell_type": "code",
   "execution_count": 10,
   "id": "3b3059af",
   "metadata": {},
   "outputs": [
    {
     "data": {
      "text/html": [
       "<div>\n",
       "<style scoped>\n",
       "    .dataframe tbody tr th:only-of-type {\n",
       "        vertical-align: middle;\n",
       "    }\n",
       "\n",
       "    .dataframe tbody tr th {\n",
       "        vertical-align: top;\n",
       "    }\n",
       "\n",
       "    .dataframe thead th {\n",
       "        text-align: right;\n",
       "    }\n",
       "</style>\n",
       "<table border=\"1\" class=\"dataframe\">\n",
       "  <thead>\n",
       "    <tr style=\"text-align: right;\">\n",
       "      <th></th>\n",
       "      <th>コロナ前</th>\n",
       "      <th>コロナ過渡期</th>\n",
       "      <th>コロナ後</th>\n",
       "    </tr>\n",
       "  </thead>\n",
       "  <tbody>\n",
       "    <tr>\n",
       "      <th>0</th>\n",
       "      <td>21235</td>\n",
       "      <td>21390</td>\n",
       "      <td>9880</td>\n",
       "    </tr>\n",
       "    <tr>\n",
       "      <th>1</th>\n",
       "      <td>3877</td>\n",
       "      <td>3626</td>\n",
       "      <td>5835</td>\n",
       "    </tr>\n",
       "    <tr>\n",
       "      <th>2</th>\n",
       "      <td>4555</td>\n",
       "      <td>4580</td>\n",
       "      <td>4467</td>\n",
       "    </tr>\n",
       "    <tr>\n",
       "      <th>3</th>\n",
       "      <td>3780</td>\n",
       "      <td>4235</td>\n",
       "      <td>5049</td>\n",
       "    </tr>\n",
       "    <tr>\n",
       "      <th>4</th>\n",
       "      <td>11313</td>\n",
       "      <td>5352</td>\n",
       "      <td>6104</td>\n",
       "    </tr>\n",
       "    <tr>\n",
       "      <th>...</th>\n",
       "      <td>...</td>\n",
       "      <td>...</td>\n",
       "      <td>...</td>\n",
       "    </tr>\n",
       "    <tr>\n",
       "      <th>2272</th>\n",
       "      <td>10096</td>\n",
       "      <td>22454</td>\n",
       "      <td>13578</td>\n",
       "    </tr>\n",
       "    <tr>\n",
       "      <th>2273</th>\n",
       "      <td>22948</td>\n",
       "      <td>8026</td>\n",
       "      <td>20712</td>\n",
       "    </tr>\n",
       "    <tr>\n",
       "      <th>2274</th>\n",
       "      <td>10608</td>\n",
       "      <td>12077</td>\n",
       "      <td>6669</td>\n",
       "    </tr>\n",
       "    <tr>\n",
       "      <th>2275</th>\n",
       "      <td>11154</td>\n",
       "      <td>12411</td>\n",
       "      <td>7997</td>\n",
       "    </tr>\n",
       "    <tr>\n",
       "      <th>2276</th>\n",
       "      <td>5366</td>\n",
       "      <td>5964</td>\n",
       "      <td>10816</td>\n",
       "    </tr>\n",
       "  </tbody>\n",
       "</table>\n",
       "<p>2277 rows × 3 columns</p>\n",
       "</div>"
      ],
      "text/plain": [
       "       コロナ前  コロナ過渡期   コロナ後\n",
       "0     21235   21390   9880\n",
       "1      3877    3626   5835\n",
       "2      4555    4580   4467\n",
       "3      3780    4235   5049\n",
       "4     11313    5352   6104\n",
       "...     ...     ...    ...\n",
       "2272  10096   22454  13578\n",
       "2273  22948    8026  20712\n",
       "2274  10608   12077   6669\n",
       "2275  11154   12411   7997\n",
       "2276   5366    5964  10816\n",
       "\n",
       "[2277 rows x 3 columns]"
      ]
     },
     "execution_count": 10,
     "metadata": {},
     "output_type": "execute_result"
    }
   ],
   "source": [
    "df= pd.DataFrame(\n",
    "    {\n",
    "        \"コロナ前\":  year_li[0], \n",
    "        \"コロナ過渡期\":    year_li[1], \n",
    "        \"コロナ後\":  year_li[2], \n",
    "    })\n",
    "df"
   ]
  },
  {
   "cell_type": "code",
   "execution_count": 11,
   "id": "0e88d579",
   "metadata": {
    "scrolled": true
   },
   "outputs": [
    {
     "data": {
      "text/html": [
       "<div>\n",
       "<style scoped>\n",
       "    .dataframe tbody tr th:only-of-type {\n",
       "        vertical-align: middle;\n",
       "    }\n",
       "\n",
       "    .dataframe tbody tr th {\n",
       "        vertical-align: top;\n",
       "    }\n",
       "\n",
       "    .dataframe thead th {\n",
       "        text-align: right;\n",
       "    }\n",
       "</style>\n",
       "<table border=\"1\" class=\"dataframe\">\n",
       "  <thead>\n",
       "    <tr style=\"text-align: right;\">\n",
       "      <th></th>\n",
       "      <th>コロナ前</th>\n",
       "      <th>コロナ過渡期</th>\n",
       "      <th>コロナ後</th>\n",
       "    </tr>\n",
       "  </thead>\n",
       "  <tbody>\n",
       "    <tr>\n",
       "      <th>count</th>\n",
       "      <td>2277.000000</td>\n",
       "      <td>2277.000000</td>\n",
       "      <td>2277.000000</td>\n",
       "    </tr>\n",
       "    <tr>\n",
       "      <th>mean</th>\n",
       "      <td>8654.052701</td>\n",
       "      <td>8818.060606</td>\n",
       "      <td>9552.742644</td>\n",
       "    </tr>\n",
       "    <tr>\n",
       "      <th>std</th>\n",
       "      <td>5008.822989</td>\n",
       "      <td>4888.943032</td>\n",
       "      <td>4439.860706</td>\n",
       "    </tr>\n",
       "    <tr>\n",
       "      <th>min</th>\n",
       "      <td>944.000000</td>\n",
       "      <td>544.000000</td>\n",
       "      <td>2390.000000</td>\n",
       "    </tr>\n",
       "    <tr>\n",
       "      <th>25%</th>\n",
       "      <td>5667.000000</td>\n",
       "      <td>5852.000000</td>\n",
       "      <td>6769.000000</td>\n",
       "    </tr>\n",
       "    <tr>\n",
       "      <th>50%</th>\n",
       "      <td>7430.000000</td>\n",
       "      <td>7664.000000</td>\n",
       "      <td>8606.000000</td>\n",
       "    </tr>\n",
       "    <tr>\n",
       "      <th>75%</th>\n",
       "      <td>10033.000000</td>\n",
       "      <td>10204.000000</td>\n",
       "      <td>11133.000000</td>\n",
       "    </tr>\n",
       "    <tr>\n",
       "      <th>max</th>\n",
       "      <td>58434.000000</td>\n",
       "      <td>65264.000000</td>\n",
       "      <td>64800.000000</td>\n",
       "    </tr>\n",
       "  </tbody>\n",
       "</table>\n",
       "</div>"
      ],
      "text/plain": [
       "               コロナ前        コロナ過渡期          コロナ後\n",
       "count   2277.000000   2277.000000   2277.000000\n",
       "mean    8654.052701   8818.060606   9552.742644\n",
       "std     5008.822989   4888.943032   4439.860706\n",
       "min      944.000000    544.000000   2390.000000\n",
       "25%     5667.000000   5852.000000   6769.000000\n",
       "50%     7430.000000   7664.000000   8606.000000\n",
       "75%    10033.000000  10204.000000  11133.000000\n",
       "max    58434.000000  65264.000000  64800.000000"
      ]
     },
     "execution_count": 11,
     "metadata": {},
     "output_type": "execute_result"
    }
   ],
   "source": [
    "df.describe()"
   ]
  },
  {
   "cell_type": "markdown",
   "id": "30efa544",
   "metadata": {},
   "source": [
    "# 4.2.3 各年度の企業別の単語数の有意差の検証\n",
    "ここでさらに追加で、年度ごとで単語数に有意差があるかについてもみていく。ここでは正規性や等分散性の検定を行なったのち、その後差の検定を行う。"
   ]
  },
  {
   "cell_type": "code",
   "execution_count": 12,
   "id": "c18abd24",
   "metadata": {},
   "outputs": [],
   "source": [
    "before_li, transition_period_li, after_li = year_li[0],  year_li[1], year_li[2]"
   ]
  },
  {
   "cell_type": "code",
   "execution_count": 13,
   "id": "14670e13",
   "metadata": {},
   "outputs": [
    {
     "name": "stdout",
     "output_type": "stream",
     "text": [
      "ShapiroResult(statistic=0.7526571750640869, pvalue=0.0)\n",
      "KstestResult(statistic=1.0, pvalue=0.0)\n"
     ]
    }
   ],
   "source": [
    "# 仮説\n",
    "# https://analysis-navi.com/?p=3302\n",
    "import scipy.stats as stats\n",
    "print(stats.shapiro(before_li))   \n",
    "print(stats.kstest(before_li, \"norm\"))"
   ]
  },
  {
   "cell_type": "code",
   "execution_count": 14,
   "id": "a33be575",
   "metadata": {},
   "outputs": [
    {
     "name": "stdout",
     "output_type": "stream",
     "text": [
      "ShapiroResult(statistic=0.7466043829917908, pvalue=0.0)\n",
      "KstestResult(statistic=1.0, pvalue=0.0)\n"
     ]
    }
   ],
   "source": [
    "print(stats.shapiro(transition_period_li))   \n",
    "print(stats.kstest(transition_period_li, \"norm\"))"
   ]
  },
  {
   "cell_type": "code",
   "execution_count": 15,
   "id": "e1c41b08",
   "metadata": {},
   "outputs": [
    {
     "name": "stdout",
     "output_type": "stream",
     "text": [
      "ShapiroResult(statistic=0.780049204826355, pvalue=0.0)\n",
      "KstestResult(statistic=1.0, pvalue=0.0)\n"
     ]
    }
   ],
   "source": [
    "print(stats.shapiro(after_li))   \n",
    "print(stats.kstest(after_li, \"norm\"))"
   ]
  },
  {
   "cell_type": "code",
   "execution_count": 16,
   "id": "e88b41b1",
   "metadata": {},
   "outputs": [],
   "source": [
    "#F検定の定義\n",
    "import numpy as np\n",
    "def exec_f_test(A, B):\n",
    "    A_var = np.var(A, ddof=1)  # Aの不偏分散\n",
    "    B_var = np.var(B, ddof=1)  # Bの不偏分散\n",
    "    A_df = len(A) - 1  # Aの自由度\n",
    "    B_df = len(B) - 1  # Bの自由度\n",
    "    f = A_var / B_var  # F比の値\n",
    "    one_sided_pval1 = stats.f.cdf(f, A_df, B_df)  # 片側検定のp値 1\n",
    "    one_sided_pval2 = stats.f.sf(f, A_df, B_df)   # 片側検定のp値 2\n",
    "    two_sided_pval = min(one_sided_pval1, one_sided_pval2) * 2  # 両側検定のp値\n",
    "    print('F:       ', round(f, 3))\n",
    "    print('p-value: ', round(two_sided_pval, 3))"
   ]
  },
  {
   "cell_type": "code",
   "execution_count": 17,
   "id": "139f6ef7",
   "metadata": {},
   "outputs": [
    {
     "name": "stdout",
     "output_type": "stream",
     "text": [
      "F:        1.05\n",
      "p-value:  0.248\n"
     ]
    },
    {
     "data": {
      "text/plain": [
       "Ttest_indResult(statistic=-1.118129895035891, pvalue=0.2635705596333606)"
      ]
     },
     "execution_count": 17,
     "metadata": {},
     "output_type": "execute_result"
    }
   ],
   "source": [
    "#正規性の検定\n",
    "  #before, transition    \n",
    "A=before_li\n",
    "B=transition_period_li\n",
    "exec_f_test(A, B)\n",
    "\n",
    "#ウェルチのt検定\n",
    "    #before, transition\n",
    "stats.ttest_ind(A, B, equal_var=False)"
   ]
  },
  {
   "cell_type": "code",
   "execution_count": 19,
   "id": "e601f0df",
   "metadata": {},
   "outputs": [
    {
     "name": "stdout",
     "output_type": "stream",
     "text": [
      "F:        1.213\n",
      "p-value:  0.0\n"
     ]
    },
    {
     "data": {
      "text/plain": [
       "Ttest_indResult(statistic=-5.3084452807999245, pvalue=1.1582414092552812e-07)"
      ]
     },
     "execution_count": 19,
     "metadata": {},
     "output_type": "execute_result"
    }
   ],
   "source": [
    "#正規性の検定及びt検定\n",
    "    #transition, after\n",
    "A=transition_period_li\n",
    "B=after_li\n",
    "exec_f_test(A, B)\n",
    "\n",
    "#スチューデントのt検定\n",
    "    #transition, after\n",
    "stats.ttest_ind(transition_period_li, after_li, axis=0, equal_var=True, nan_policy='propagate')"
   ]
  },
  {
   "cell_type": "code",
   "execution_count": 20,
   "id": "70a6bfa7",
   "metadata": {},
   "outputs": [
    {
     "name": "stdout",
     "output_type": "stream",
     "text": [
      "F:        1.273\n",
      "p-value:  0.0\n"
     ]
    },
    {
     "data": {
      "text/plain": [
       "Ttest_indResult(statistic=-5.3084452807999245, pvalue=1.1582414092552812e-07)"
      ]
     },
     "execution_count": 20,
     "metadata": {},
     "output_type": "execute_result"
    }
   ],
   "source": [
    "import numpy as np\n",
    "A=before_li\n",
    "B=after_li\n",
    "exec_f_test(A, B)\n",
    "\n",
    "#スチューデントのt検定\n",
    "    #transition, after\n",
    "stats.ttest_ind(transition_period_li, after_li, axis=0, equal_var=True, nan_policy='propagate')"
   ]
  },
  {
   "cell_type": "code",
   "execution_count": 21,
   "id": "a4aa2e06",
   "metadata": {},
   "outputs": [
    {
     "data": {
      "text/plain": [
       "MannwhitneyuResult(statistic=2489193.5, pvalue=0.020038774853821714)"
      ]
     },
     "execution_count": 21,
     "metadata": {},
     "output_type": "execute_result"
    }
   ],
   "source": [
    "#マンホイットニーのu検定\n",
    "stats.mannwhitneyu( before_li, transition_period_li, alternative='two-sided')"
   ]
  },
  {
   "cell_type": "code",
   "execution_count": 22,
   "id": "393b882c",
   "metadata": {},
   "outputs": [
    {
     "data": {
      "text/plain": [
       "MannwhitneyuResult(statistic=2153349.0, pvalue=4.329536466197535e-23)"
      ]
     },
     "execution_count": 22,
     "metadata": {},
     "output_type": "execute_result"
    }
   ],
   "source": [
    "stats.mannwhitneyu(transition_period_li, after_li, alternative='two-sided')"
   ]
  },
  {
   "cell_type": "code",
   "execution_count": 23,
   "id": "cd1cee0a",
   "metadata": {},
   "outputs": [
    {
     "data": {
      "text/plain": [
       "MannwhitneyuResult(statistic=2061966.0, pvalue=6.0414281978968784e-33)"
      ]
     },
     "execution_count": 23,
     "metadata": {},
     "output_type": "execute_result"
    }
   ],
   "source": [
    "stats.mannwhitneyu(before_li, after_li, alternative='two-sided')"
   ]
  }
 ],
 "metadata": {
  "kernelspec": {
   "display_name": "Python 3 (ipykernel)",
   "language": "python",
   "name": "python3"
  },
  "language_info": {
   "codemirror_mode": {
    "name": "ipython",
    "version": 3
   },
   "file_extension": ".py",
   "mimetype": "text/x-python",
   "name": "python",
   "nbconvert_exporter": "python",
   "pygments_lexer": "ipython3",
   "version": "3.9.6"
  }
 },
 "nbformat": 4,
 "nbformat_minor": 5
}
